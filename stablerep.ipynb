{
  "cells": [
    {
      "cell_type": "code",
      "execution_count": 1,
      "metadata": {
        "colab": {
          "base_uri": "https://localhost:8080/"
        },
        "id": "L_Rc6-Z92nnh",
        "outputId": "4cf66248-a9e7-4d7c-b195-c2e7a4aaac1a"
      },
      "outputs": [
        {
          "output_type": "stream",
          "name": "stdout",
          "text": [
            "⏬ Downloading https://github.com/conda-forge/miniforge/releases/download/23.1.0-1/Mambaforge-23.1.0-1-Linux-x86_64.sh...\n",
            "📦 Installing...\n",
            "📌 Adjusting configuration...\n",
            "🩹 Patching environment...\n",
            "⏲ Done in 0:00:14\n",
            "🔁 Restarting kernel...\n"
          ]
        }
      ],
      "source": [
        "!pip install -q condacolab\n",
        "import condacolab\n",
        "condacolab.install()"
      ]
    },
    {
      "cell_type": "code",
      "execution_count": 1,
      "metadata": {
        "colab": {
          "base_uri": "https://localhost:8080/"
        },
        "id": "Skhp8UhVcIbX",
        "outputId": "af6fe0cc-9b4f-43c5-8394-35dd7f81e4ae"
      },
      "outputs": [
        {
          "output_type": "stream",
          "name": "stdout",
          "text": [
            "Mounted at /content/drive\n"
          ]
        }
      ],
      "source": [
        "from google.colab import drive\n",
        "drive.mount('/content/drive')"
      ]
    },
    {
      "cell_type": "code",
      "execution_count": 2,
      "metadata": {
        "colab": {
          "base_uri": "https://localhost:8080/"
        },
        "id": "-VrYSacNxaCe",
        "outputId": "a208a20b-61eb-464b-a105-95b119c7e785"
      },
      "outputs": [
        {
          "output_type": "stream",
          "name": "stdout",
          "text": [
            "/content/drive/.shortcut-targets-by-id/1nZdBXcgOjpxd5SkB9aMUeFt3GkW5DgM0/242 stuff\n"
          ]
        }
      ],
      "source": [
        "cd '/content/drive/MyDrive/242 stuff/'"
      ]
    },
    {
      "cell_type": "markdown",
      "metadata": {
        "id": "YpwfecLvRo_M"
      },
      "source": [
        "# New Section"
      ]
    },
    {
      "cell_type": "code",
      "execution_count": 3,
      "metadata": {
        "colab": {
          "base_uri": "https://localhost:8080/"
        },
        "id": "8-FFMdRYxeU-",
        "outputId": "cbec9824-0187-4493-edd7-6eaae5ae106a"
      },
      "outputs": [
        {
          "output_type": "stream",
          "name": "stdout",
          "text": [
            "/content/drive/.shortcut-targets-by-id/1nZdBXcgOjpxd5SkB9aMUeFt3GkW5DgM0/242 stuff/syn-rep-learn-main\n"
          ]
        }
      ],
      "source": [
        "cd syn-rep-learn-main/"
      ]
    },
    {
      "cell_type": "code",
      "execution_count": null,
      "metadata": {
        "id": "OVhRDflN2yAG"
      },
      "outputs": [],
      "source": [
        "!conda env remove --name synrep\n",
        "!conda env create -f environment_overcomplete.yml"
      ]
    },
    {
      "cell_type": "code",
      "execution_count": null,
      "metadata": {
        "id": "T3Q0_MJLyPQe"
      },
      "outputs": [],
      "source": [
        "!pip install timm==0.5.4 \\\n",
        "             tensorboard \\\n",
        "             packaging \\\n",
        "             pip install inf"
      ]
    },
    {
      "cell_type": "code",
      "execution_count": null,
      "metadata": {
        "id": "5DhHPUo2b71C"
      },
      "outputs": [],
      "source": [
        "# Managing Data\n",
        "import shutil\n",
        "import torch\n",
        "import os\n",
        "import numpy as np\n",
        "from torchvision.datasets import ImageFolder\n",
        "\n",
        "# Load the full dataset without applying any transforms\n",
        "full_dataset = ImageFolder(root='./processed_data/', transform=None)\n",
        "\n",
        "# Create train and val directories\n",
        "os.makedirs('./processed_data/train/', exist_ok=True)\n",
        "os.makedirs('./processed_data/val/', exist_ok=True)\n",
        "\n",
        "# Get indices for train and val splits\n",
        "train_size = int(len(full_dataset))  # 80% of the dataset\n",
        "indices = torch.randperm(len(full_dataset)).tolist()\n",
        "train_indices = indices[:train_size]\n",
        "val_indices = indices[train_size:]\n",
        "\n",
        "# Function to copy images to new directory structure\n",
        "def copy_images(dataset, indices, dest_folder):\n",
        "    for idx in indices:\n",
        "        # Get image path and label\n",
        "        img_path, label = dataset.samples[idx]\n",
        "        # Determine the class name based on the label\n",
        "        class_name = dataset.classes[label]\n",
        "        # Create a directory for the class if it doesn't exist already\n",
        "        os.makedirs(os.path.join(dest_folder, class_name), exist_ok=True)\n",
        "        # Copy the image to the new directory structure\n",
        "        dest_path = os.path.join(dest_folder, class_name, os.path.basename(img_path))\n",
        "        shutil.copy(img_path, dest_path)\n",
        "\n",
        "# Copy the images based on the split\n",
        "copy_images(full_dataset, val_indices, './processed_data/val/')\n",
        "copy_images(full_dataset, train_indices, './processed_data/train/')"
      ]
    },
    {
      "cell_type": "code",
      "source": [
        "# Changing data structure\n",
        "import os\n",
        "import shutil\n",
        "\n",
        "# Set the directory where your dataset is stored\n",
        "dataset_dir = 'images/'  # Replace with your dataset directory\n",
        "output_dir = 'imagesupdate/'  # Replace with desired output directory\n",
        "\n",
        "# Create the output directory if it doesn't exist\n",
        "if not os.path.exists(output_dir):\n",
        "    os.makedirs(output_dir)\n",
        "\n",
        "# Loop through all files in the dataset directory\n",
        "for filename in os.listdir(dataset_dir):\n",
        "    if filename.endswith('.jpg') or filename.endswith('.mat'):  # Assuming all images are in .jpg format\n",
        "        # Extract class name from the file name\n",
        "        class_name = filename.split('_')[0]  # This depends on your file naming convention\n",
        "\n",
        "        # Create a directory for the class if it doesn't exist\n",
        "        class_dir = os.path.join(output_dir, class_name)\n",
        "        if not os.path.exists(class_dir):\n",
        "            os.makedirs(class_dir)\n",
        "\n",
        "        # Move the file to the class directory\n",
        "        shutil.move(os.path.join(dataset_dir, filename), os.path.join(class_dir, filename))\n",
        "\n",
        "print(\"Dataset sorting complete.\")"
      ],
      "metadata": {
        "colab": {
          "base_uri": "https://localhost:8080/"
        },
        "id": "jD54Hd_oHm6B",
        "outputId": "e7687b30-95ce-443b-9dd6-44871dbd0de3"
      },
      "execution_count": null,
      "outputs": [
        {
          "output_type": "stream",
          "name": "stdout",
          "text": [
            "Dataset sorting complete.\n"
          ]
        }
      ]
    },
    {
      "cell_type": "code",
      "execution_count": null,
      "metadata": {
        "id": "MjWwvciLyTez"
      },
      "outputs": [],
      "source": [
        "!python main_linear.py --model base --data \"/content/drive/My Drive/242 stuff/syn-rep-learn-main/\" --pretrained laion_stablerep_pp_50m.pth --gpu 0 --num-classes 10 --eval-freq 5 --val-split 0.1 --data-use-percent 0.10\n",
        "  # --output-dir /path/to/linear_save \\\n",
        "  # --log-dir /path/to/tensorboard_folder"
      ]
    },
    {
      "cell_type": "code",
      "source": [
        "import matplotlib.pyplot as plt\n",
        "\n",
        "# Class names\n",
        "classes = [\"Apple Pie\", \"Bimibap\", \"Cannoli\", \"Edamame\", \"Falafel\",\n",
        "           \"French Toast\", \"Ice Cream\", \"Ramen\", \"Sushi\", \"Tiramisu\"]\n",
        "\n",
        "# Accuracies for each class\n",
        "accuracies = [0.5, 0.9840, 0.7780, 0.9180, 0.9460,\n",
        "              0.8620, 0.5660, 0.9220,0.7540,0.9400]\n",
        "\n",
        "# Creating the bar plot\n",
        "plt.figure(figsize=(10, 6))\n",
        "plt.bar(classes, accuracies, color='skyblue')\n",
        "plt.xlabel('Classes')\n",
        "plt.ylabel('Accuracy')\n",
        "plt.title('Accuracies Across Different Classes')\n",
        "plt.xticks(rotation=45)\n",
        "plt.ylim(0, 1)  # Setting the limit for y-axis to 1 as accuracy cannot exceed 1\n",
        "plt.show()\n"
      ],
      "metadata": {
        "colab": {
          "base_uri": "https://localhost:8080/",
          "height": 621
        },
        "id": "xEQTAzRBL03D",
        "outputId": "d63e2496-62c3-4a3d-862a-0d9c33f4f48b"
      },
      "execution_count": 2,
      "outputs": [
        {
          "output_type": "display_data",
          "data": {
            "text/plain": [
              "<Figure size 1000x600 with 1 Axes>"
            ],
            "image/png": "[encoded data removed]"
          },
          "metadata": {}
        }
      ]
    }
  ],
  "metadata": {
    "accelerator": "GPU",
    "colab": {
      "provenance": []
    },
    "kernelspec": {
      "display_name": "Python 3",
      "name": "python3"
    },
    "language_info": {
      "name": "python"
    }
  },
  "nbformat": 4,
  "nbformat_minor": 0
}